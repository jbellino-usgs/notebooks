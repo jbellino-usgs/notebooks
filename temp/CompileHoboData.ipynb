{
 "cells": [
  {
   "cell_type": "code",
   "execution_count": 1,
   "metadata": {
    "collapsed": false,
    "scrolled": true
   },
   "outputs": [
    {
     "name": "stdout",
     "output_type": "stream",
     "text": [
      "                     state                 time\n",
      "2012-08-01 13:35:49      1  2012-08-01 13:35:49\n",
      "2012-08-01 13:36:22      0  2012-08-01 13:36:22\n",
      "2012-08-01 14:39:50      1  2012-08-01 14:39:50\n",
      "2012-08-01 14:40:22      0  2012-08-01 14:40:22\n",
      "2012-08-01 15:52:53      1  2012-08-01 15:52:53\n",
      "2012-08-01 15:53:25      0  2012-08-01 15:53:25\n",
      "2012-08-01 16:13:12      1  2012-08-01 16:13:12\n",
      "2012-08-01 16:13:45      0  2012-08-01 16:13:45\n",
      "2012-08-01 16:46:09      1  2012-08-01 16:46:09\n",
      "2012-08-01 16:46:48      0  2012-08-01 16:46:48\n",
      "2012-08-01 17:40:19      1  2012-08-01 17:40:19\n",
      "2012-08-01 17:40:49      0  2012-08-01 17:40:49\n",
      "2012-08-01 18:32:37      1  2012-08-01 18:32:37\n",
      "2012-08-01 18:33:08      0  2012-08-01 18:33:08\n",
      "2012-08-01 19:01:29      1  2012-08-01 19:01:29\n",
      "2012-08-01 19:02:00      0  2012-08-01 19:02:00\n",
      "2012-08-01 19:11:13      1  2012-08-01 19:11:13\n",
      "2012-08-01 19:11:46      0  2012-08-01 19:11:46\n",
      "2012-08-01 19:39:22      1  2012-08-01 19:39:22\n",
      "2012-08-01 19:39:53      0  2012-08-01 19:39:53\n",
      "2012-08-01 19:58:30      1  2012-08-01 19:58:30\n",
      "2012-08-01 19:59:05      0  2012-08-01 19:59:05\n",
      "2012-08-01 20:27:07      1  2012-08-01 20:27:07\n",
      "2012-08-01 20:27:38      0  2012-08-01 20:27:38\n",
      "2012-08-01 20:39:44      1  2012-08-01 20:39:44\n",
      "2012-08-01 20:40:15      0  2012-08-01 20:40:15\n",
      "2012-08-01 20:56:31      1  2012-08-01 20:56:31\n",
      "2012-08-01 20:57:04      0  2012-08-01 20:57:04\n",
      "2012-08-01 21:12:30      1  2012-08-01 21:12:30\n",
      "2012-08-01 21:13:02      0  2012-08-01 21:13:02\n",
      "...                    ...                  ...\n",
      "2015-09-01 23:33:37      1  2015-09-01 23:33:37\n",
      "2015-09-01 23:34:08      0  2015-09-01 23:34:08\n",
      "2015-09-02 00:07:30      1  2015-09-02 00:07:30\n",
      "2015-09-02 00:08:07      0  2015-09-02 00:08:07\n",
      "2015-09-02 00:10:30      1  2015-09-02 00:10:30\n",
      "2015-09-02 00:11:04      0  2015-09-02 00:11:04\n",
      "2015-09-02 00:55:32      1  2015-09-02 00:55:32\n",
      "2015-09-02 00:56:03      0  2015-09-02 00:56:03\n",
      "2015-09-02 01:11:07      1  2015-09-02 01:11:07\n",
      "2015-09-02 01:11:38      0  2015-09-02 01:11:38\n",
      "2015-09-02 06:14:11      1  2015-09-02 06:14:11\n",
      "2015-09-02 06:15:00      0  2015-09-02 06:15:00\n",
      "2015-09-02 06:15:58      1  2015-09-02 06:15:58\n",
      "2015-09-02 06:16:40      0  2015-09-02 06:16:40\n",
      "2015-09-02 06:18:04      1  2015-09-02 06:18:04\n",
      "2015-09-02 06:18:46      0  2015-09-02 06:18:46\n",
      "2015-09-02 06:52:50      1  2015-09-02 06:52:50\n",
      "2015-09-02 06:53:26      0  2015-09-02 06:53:26\n",
      "2015-09-02 07:14:34      1  2015-09-02 07:14:34\n",
      "2015-09-02 07:15:05      0  2015-09-02 07:15:05\n",
      "2015-09-02 10:14:34      1  2015-09-02 10:14:34\n",
      "2015-09-02 10:15:26      0  2015-09-02 10:15:26\n",
      "2015-09-02 10:16:44      1  2015-09-02 10:16:44\n",
      "2015-09-02 10:17:26      0  2015-09-02 10:17:26\n",
      "2015-09-02 10:18:51      1  2015-09-02 10:18:51\n",
      "2015-09-02 10:19:24      0  2015-09-02 10:19:24\n",
      "2015-09-02 12:14:48      1  2015-09-02 12:14:48\n",
      "2015-09-02 12:15:37      0  2015-09-02 12:15:37\n",
      "2015-09-02 12:17:03      1  2015-09-02 12:17:03\n",
      "2015-09-02 12:17:44      0  2015-09-02 12:17:44\n",
      "\n",
      "[61666 rows x 2 columns]\n"
     ]
    }
   ],
   "source": [
    "import pandas as pd\n",
    "import numpy as np\n",
    "\n",
    "%matplotlib inline\n",
    "import matplotlib\n",
    "matplotlib.style.use('ggplot')\n",
    "import matplotlib.pyplot as plt\n",
    "\n",
    "def open_excel(xl_file, sheetname=None, parse_cols=[1, 2]):\n",
    "    \"\"\"\n",
    "    This function serves as a thin wrapper around pandas.read_excel(). We use it to streamline the importation of \n",
    "    several spreadsheets at once.\n",
    "    :param xl_file: The name of the spreadsheet to be opened.\n",
    "    :param sheetname: The index-value or name of the sheet to be opened. None by default opens all worksheets.\n",
    "    :param parse_cols: A list of index-values or names of columns to be read. By default reads the second and third columns.\n",
    "    \"\"\"\n",
    "\n",
    "    # Read the excel spreadsheet and all worksheets within (sheetname=None)\n",
    "    df_dict = pd.read_excel(xl_file, sheetname=sheetname, parse_cols=parse_cols)\n",
    "\n",
    "    # Concatenate each of the separate worksheet DataFrames into a single DataFrame\n",
    "    df = pd.concat([df_dict[k] for k in df_dict.keys()])\n",
    "    \n",
    "    # Drop null rows\n",
    "    df = df.dropna(how='all')\n",
    "    \n",
    "    # Rename columns\n",
    "    df.columns = ['idx', 'state']\n",
    "    \n",
    "    # Copy the date/time stamps to a new field\n",
    "    df['time'] = df['idx']\n",
    "    \n",
    "    # Set the index and sort by date\n",
    "    df = df.set_index('idx')\n",
    "    df.index.rename(None, inplace=True)\n",
    "    df = df.sort_index()\n",
    "    \n",
    "    # Look for \"00\" and drop rows\n",
    "    # df.state.map('{:.0f}'.format)\n",
    "    # Not implemented yet\n",
    "               \n",
    "    return df\n",
    "\n",
    "\n",
    "# Now we call the function defined above and feed it a list of files we want to read\n",
    "xl_files = ['Clark 2012.xlsx', 'Clark 2014.xlsx', 'Clark 2015.xlsx']\n",
    "df_list = []\n",
    "for xl_file in xl_files:\n",
    "    df_list.append(open_excel(xl_file))\n",
    "    \n",
    "# Compile all of the yearly data together into a single DataFrame and sort by date\n",
    "df = pd.concat(df_list)\n",
    "df = df.sort_index()\n",
    "print df"
   ]
  },
  {
   "cell_type": "code",
   "execution_count": 2,
   "metadata": {
    "collapsed": false
   },
   "outputs": [
    {
     "data": {
      "text/plain": [
       "30830"
      ]
     },
     "execution_count": 2,
     "metadata": {},
     "output_type": "execute_result"
    }
   ],
   "source": [
    "len(df[df['state']==1])"
   ]
  },
  {
   "cell_type": "code",
   "execution_count": 6,
   "metadata": {
    "collapsed": false,
    "scrolled": true
   },
   "outputs": [
    {
     "name": "stdout",
     "output_type": "stream",
     "text": [
      "                     state     time\n",
      "2012-08-01 13:35:49    NaN      NaN\n",
      "2012-08-01 13:36:22     -1  0:00:33\n",
      "2012-08-01 14:39:50      1  1:03:28\n",
      "2012-08-01 14:40:22     -1  0:00:32\n",
      "2012-08-01 15:52:53      1  1:12:31\n",
      "2012-08-01 15:53:25     -1  0:00:32\n",
      "2012-08-01 16:13:12      1  0:19:47\n",
      "2012-08-01 16:13:45     -1  0:00:33\n",
      "2012-08-01 16:46:09      1  0:32:24\n",
      "2012-08-01 16:46:48     -1  0:00:39\n",
      "2012-08-01 17:40:19      1  0:53:31\n",
      "2012-08-01 17:40:49     -1  0:00:30\n",
      "2012-08-01 18:32:37      1  0:51:48\n",
      "2012-08-01 18:33:08     -1  0:00:31\n",
      "2012-08-01 19:01:29      1  0:28:21\n",
      "2012-08-01 19:02:00     -1  0:00:31\n",
      "2012-08-01 19:11:13      1  0:09:13\n",
      "2012-08-01 19:11:46     -1  0:00:33\n",
      "2012-08-01 19:39:22      1  0:27:36\n",
      "2012-08-01 19:39:53     -1  0:00:31\n",
      "2012-08-01 19:58:30      1  0:18:37\n",
      "2012-08-01 19:59:05     -1  0:00:35\n",
      "2012-08-01 20:27:07      1  0:28:02\n",
      "2012-08-01 20:27:38     -1  0:00:31\n",
      "2012-08-01 20:39:44      1  0:12:06\n",
      "2012-08-01 20:40:15     -1  0:00:31\n",
      "2012-08-01 20:56:31      1  0:16:16\n",
      "2012-08-01 20:57:04     -1  0:00:33\n",
      "2012-08-01 21:12:30      1  0:15:26\n",
      "2012-08-01 21:13:02     -1  0:00:32\n",
      "...                    ...      ...\n",
      "2015-09-01 23:33:37      1  0:24:15\n",
      "2015-09-01 23:34:08     -1  0:00:31\n",
      "2015-09-02 00:07:30      1  0:33:22\n",
      "2015-09-02 00:08:07     -1  0:00:37\n",
      "2015-09-02 00:10:30      1  0:02:23\n",
      "2015-09-02 00:11:04     -1  0:00:34\n",
      "2015-09-02 00:55:32      1  0:44:28\n",
      "2015-09-02 00:56:03     -1  0:00:31\n",
      "2015-09-02 01:11:07      1  0:15:04\n",
      "2015-09-02 01:11:38     -1  0:00:31\n",
      "2015-09-02 06:14:11      1  5:02:33\n",
      "2015-09-02 06:15:00     -1  0:00:49\n",
      "2015-09-02 06:15:58      1  0:00:58\n",
      "2015-09-02 06:16:40     -1  0:00:42\n",
      "2015-09-02 06:18:04      1  0:01:24\n",
      "2015-09-02 06:18:46     -1  0:00:42\n",
      "2015-09-02 06:52:50      1  0:34:04\n",
      "2015-09-02 06:53:26     -1  0:00:36\n",
      "2015-09-02 07:14:34      1  0:21:08\n",
      "2015-09-02 07:15:05     -1  0:00:31\n",
      "2015-09-02 10:14:34      1  2:59:29\n",
      "2015-09-02 10:15:26     -1  0:00:52\n",
      "2015-09-02 10:16:44      1  0:01:18\n",
      "2015-09-02 10:17:26     -1  0:00:42\n",
      "2015-09-02 10:18:51      1  0:01:25\n",
      "2015-09-02 10:19:24     -1  0:00:33\n",
      "2015-09-02 12:14:48      1  1:55:24\n",
      "2015-09-02 12:15:37     -1  0:00:49\n",
      "2015-09-02 12:17:03      1  0:01:26\n",
      "2015-09-02 12:17:44     -1  0:00:41\n",
      "\n",
      "[61666 rows x 2 columns]\n"
     ]
    }
   ],
   "source": [
    "# Compute the time difference between subsequent records\n",
    "time_diff = df.diff()\n",
    "print time_diff"
   ]
  },
  {
   "cell_type": "code",
   "execution_count": 7,
   "metadata": {
    "collapsed": false,
    "scrolled": true
   },
   "outputs": [
    {
     "name": "stdout",
     "output_type": "stream",
     "text": [
      "2012-08-01 13:36:22   00:00:33\n",
      "2012-08-01 14:40:22   00:00:32\n",
      "2012-08-01 15:53:25   00:00:32\n",
      "2012-08-01 16:13:45   00:00:33\n",
      "2012-08-01 16:46:48   00:00:39\n",
      "2012-08-01 17:40:49   00:00:30\n",
      "2012-08-01 18:33:08   00:00:31\n",
      "2012-08-01 19:02:00   00:00:31\n",
      "2012-08-01 19:11:46   00:00:33\n",
      "2012-08-01 19:39:53   00:00:31\n",
      "2012-08-01 19:59:05   00:00:35\n",
      "2012-08-01 20:27:38   00:00:31\n",
      "2012-08-01 20:40:15   00:00:31\n",
      "2012-08-01 20:57:04   00:00:33\n",
      "2012-08-01 21:13:02   00:00:32\n",
      "2012-08-01 22:19:39   00:00:31\n",
      "2012-08-01 22:58:24   00:00:30\n",
      "2012-08-01 23:48:20   00:00:40\n",
      "2012-08-02 00:00:13   00:00:33\n",
      "2012-08-02 00:34:16   00:00:30\n",
      "2012-08-02 01:42:16   00:00:30\n",
      "2012-08-02 02:50:33   00:00:31\n",
      "2012-08-02 04:01:12   00:00:31\n",
      "2012-08-02 05:07:41   00:00:38\n",
      "2012-08-02 05:09:55   00:00:41\n",
      "2012-08-02 05:12:30   00:00:37\n",
      "2012-08-02 05:37:45   00:00:31\n",
      "2012-08-02 05:42:59   00:00:34\n",
      "2012-08-02 05:46:40   00:00:35\n",
      "2012-08-02 06:07:03   00:00:32\n",
      "                        ...   \n",
      "2015-08-31 22:28:27   00:00:29\n",
      "2015-08-31 22:45:27   00:00:31\n",
      "2015-08-31 23:30:49   00:00:35\n",
      "2015-09-01 06:06:01   00:00:36\n",
      "2015-09-01 06:13:03   00:00:32\n",
      "2015-09-01 06:23:16   00:00:35\n",
      "2015-09-01 07:38:28   00:00:32\n",
      "2015-09-01 07:55:06   00:00:32\n",
      "2015-09-01 07:59:32   00:00:30\n",
      "2015-09-01 12:20:41   00:00:29\n",
      "2015-09-01 15:41:36   00:00:31\n",
      "2015-09-01 19:55:56   00:00:31\n",
      "2015-09-01 21:44:03   00:00:33\n",
      "2015-09-01 22:36:42   00:00:35\n",
      "2015-09-01 23:09:22   00:00:30\n",
      "2015-09-01 23:34:08   00:00:31\n",
      "2015-09-02 00:08:07   00:00:37\n",
      "2015-09-02 00:11:04   00:00:34\n",
      "2015-09-02 00:56:03   00:00:31\n",
      "2015-09-02 01:11:38   00:00:31\n",
      "2015-09-02 06:15:00   00:00:49\n",
      "2015-09-02 06:16:40   00:00:42\n",
      "2015-09-02 06:18:46   00:00:42\n",
      "2015-09-02 06:53:26   00:00:36\n",
      "2015-09-02 07:15:05   00:00:31\n",
      "2015-09-02 10:15:26   00:00:52\n",
      "2015-09-02 10:17:26   00:00:42\n",
      "2015-09-02 10:19:24   00:00:33\n",
      "2015-09-02 12:15:37   00:00:49\n",
      "2015-09-02 12:17:44   00:00:41\n",
      "Name: time, dtype: timedelta64[ns]\n"
     ]
    }
   ],
   "source": [
    "# Since the data should be purely sequential (on/off) we can assume that all records with a state value of -1 correspond to \n",
    "# times when the pump was on and all records with a state value of 1 correspond to times when the pump was off.\n",
    "pump_on = time_diff[time_diff['state']==-1]['time']\n",
    "pump_off = time_diff[time_diff['state']==1]['time']\n",
    "print pump_on"
   ]
  },
  {
   "cell_type": "code",
   "execution_count": 4,
   "metadata": {
    "collapsed": false
   },
   "outputs": [],
   "source": [
    "# Aggregate the pump-on time by month and export to a .csv file\n",
    "monthly_pump_runtime = pump_on.groupby([pd.TimeGrouper(freq='M')]).aggregate(np.sum).astype('timedelta64[s]')\n",
    "monthly_pump_runtime.to_csv('runtime.csv')"
   ]
  },
  {
   "cell_type": "code",
   "execution_count": 5,
   "metadata": {
    "collapsed": false
   },
   "outputs": [
    {
     "data": {
      "image/png": "[encoded data removed]",
      "text/plain": [
       "<matplotlib.figure.Figure at 0xc6c40b8>"
      ]
     },
     "metadata": {},
     "output_type": "display_data"
    }
   ],
   "source": [
    "# Plot the results\n",
    "fig, ax = plt.subplots(figsize=(12, 5))\n",
    "monthly_pump_runtime.plot(kind='bar', ax=ax)\n",
    "ax.set_ylabel('Runtime, in seconds')\n",
    "plt.title('Clark')\n",
    "plt.tight_layout()\n",
    "plt.savefig('Clark.png')"
   ]
  },
  {
   "cell_type": "code",
   "execution_count": null,
   "metadata": {
    "collapsed": true
   },
   "outputs": [],
   "source": []
  }
 ],
 "metadata": {
  "kernelspec": {
   "display_name": "Python 2",
   "language": "python",
   "name": "python2"
  },
  "language_info": {
   "codemirror_mode": {
    "name": "ipython",
    "version": 2
   },
   "file_extension": ".py",
   "mimetype": "text/x-python",
   "name": "python",
   "nbconvert_exporter": "python",
   "pygments_lexer": "ipython2",
   "version": "2.7.6"
  }
 },
 "nbformat": 4,
 "nbformat_minor": 0
}
