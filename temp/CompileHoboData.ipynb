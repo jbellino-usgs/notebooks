{
 "cells": [
  {
   "cell_type": "code",
   "execution_count": 49,
   "metadata": {
    "collapsed": false,
    "scrolled": true
   },
   "outputs": [
    {
     "name": "stdout",
     "output_type": "stream",
     "text": [
      "                     state                 time\n",
      "2012-08-01 13:35:49      1  2012-08-01 13:35:49\n",
      "2012-08-01 13:36:22      0  2012-08-01 13:36:22\n",
      "2012-08-01 14:39:50      1  2012-08-01 14:39:50\n",
      "2012-08-01 14:40:22      0  2012-08-01 14:40:22\n",
      "2012-08-01 15:52:53      1  2012-08-01 15:52:53\n",
      "2012-08-01 15:53:25      0  2012-08-01 15:53:25\n",
      "2012-08-01 16:13:12      1  2012-08-01 16:13:12\n",
      "2012-08-01 16:13:45      0  2012-08-01 16:13:45\n",
      "2012-08-01 16:46:09      1  2012-08-01 16:46:09\n",
      "2012-08-01 16:46:48      0  2012-08-01 16:46:48\n",
      "2012-08-01 17:40:19      1  2012-08-01 17:40:19\n",
      "2012-08-01 17:40:49      0  2012-08-01 17:40:49\n",
      "2012-08-01 18:32:37      1  2012-08-01 18:32:37\n",
      "2012-08-01 18:33:08      0  2012-08-01 18:33:08\n",
      "2012-08-01 19:01:29      1  2012-08-01 19:01:29\n",
      "2012-08-01 19:02:00      0  2012-08-01 19:02:00\n",
      "2012-08-01 19:11:13      1  2012-08-01 19:11:13\n",
      "2012-08-01 19:11:46      0  2012-08-01 19:11:46\n",
      "2012-08-01 19:39:22      1  2012-08-01 19:39:22\n",
      "2012-08-01 19:39:53      0  2012-08-01 19:39:53\n",
      "2012-08-01 19:58:30      1  2012-08-01 19:58:30\n",
      "2012-08-01 19:59:05      0  2012-08-01 19:59:05\n",
      "2012-08-01 20:27:07      1  2012-08-01 20:27:07\n",
      "2012-08-01 20:27:38      0  2012-08-01 20:27:38\n",
      "2012-08-01 20:39:44      1  2012-08-01 20:39:44\n",
      "2012-08-01 20:40:15      0  2012-08-01 20:40:15\n",
      "2012-08-01 20:56:31      1  2012-08-01 20:56:31\n",
      "2012-08-01 20:57:04      0  2012-08-01 20:57:04\n",
      "2012-08-01 21:12:30      1  2012-08-01 21:12:30\n",
      "2012-08-01 21:13:02      0  2012-08-01 21:13:02\n",
      "...                    ...                  ...\n",
      "2015-09-01 23:33:37      1  2015-09-01 23:33:37\n",
      "2015-09-01 23:34:08      0  2015-09-01 23:34:08\n",
      "2015-09-02 00:07:30      1  2015-09-02 00:07:30\n",
      "2015-09-02 00:08:07      0  2015-09-02 00:08:07\n",
      "2015-09-02 00:10:30      1  2015-09-02 00:10:30\n",
      "2015-09-02 00:11:04      0  2015-09-02 00:11:04\n",
      "2015-09-02 00:55:32      1  2015-09-02 00:55:32\n",
      "2015-09-02 00:56:03      0  2015-09-02 00:56:03\n",
      "2015-09-02 01:11:07      1  2015-09-02 01:11:07\n",
      "2015-09-02 01:11:38      0  2015-09-02 01:11:38\n",
      "2015-09-02 06:14:11      1  2015-09-02 06:14:11\n",
      "2015-09-02 06:15:00      0  2015-09-02 06:15:00\n",
      "2015-09-02 06:15:58      1  2015-09-02 06:15:58\n",
      "2015-09-02 06:16:40      0  2015-09-02 06:16:40\n",
      "2015-09-02 06:18:04      1  2015-09-02 06:18:04\n",
      "2015-09-02 06:18:46      0  2015-09-02 06:18:46\n",
      "2015-09-02 06:52:50      1  2015-09-02 06:52:50\n",
      "2015-09-02 06:53:26      0  2015-09-02 06:53:26\n",
      "2015-09-02 07:14:34      1  2015-09-02 07:14:34\n",
      "2015-09-02 07:15:05      0  2015-09-02 07:15:05\n",
      "2015-09-02 10:14:34      1  2015-09-02 10:14:34\n",
      "2015-09-02 10:15:26      0  2015-09-02 10:15:26\n",
      "2015-09-02 10:16:44      1  2015-09-02 10:16:44\n",
      "2015-09-02 10:17:26      0  2015-09-02 10:17:26\n",
      "2015-09-02 10:18:51      1  2015-09-02 10:18:51\n",
      "2015-09-02 10:19:24      0  2015-09-02 10:19:24\n",
      "2015-09-02 12:14:48      1  2015-09-02 12:14:48\n",
      "2015-09-02 12:15:37      0  2015-09-02 12:15:37\n",
      "2015-09-02 12:17:03      1  2015-09-02 12:17:03\n",
      "2015-09-02 12:17:44      0  2015-09-02 12:17:44\n",
      "\n",
      "[61666 rows x 2 columns]\n"
     ]
    }
   ],
   "source": [
    "import pandas as pd\n",
    "import numpy as np\n",
    "\n",
    "%matplotlib inline\n",
    "import matplotlib\n",
    "matplotlib.style.use('ggplot')\n",
    "import matplotlib.pyplot as plt\n",
    "import matplotlib.dates as dates\n",
    "\n",
    "def open_excel(xl_file, sheetname=None, parse_cols=[1, 2]):\n",
    "    \"\"\"\n",
    "    This function serves as a thin wrapper around pandas.read_excel(). We use it to streamline the importation of \n",
    "    several spreadsheets at once.\n",
    "    :param xl_file: The name of the spreadsheet to be opened.\n",
    "    :param sheetname: The index-value or name of the sheet to be opened. None by default opens all worksheets.\n",
    "    :param parse_cols: A list of index-values or names of columns to be read. By default reads the second and third columns.\n",
    "    \"\"\"\n",
    "\n",
    "    # Read the excel spreadsheet and all worksheets within (sheetname=None)\n",
    "    df_dict = pd.read_excel(xl_file, sheetname=sheetname, parse_cols=parse_cols)\n",
    "\n",
    "    # Concatenate each of the separate worksheet DataFrames into a single DataFrame\n",
    "    df = pd.concat([df_dict[k] for k in df_dict.keys()])\n",
    "    \n",
    "    # Drop null rows\n",
    "    df = df.dropna(how='all')\n",
    "    \n",
    "    # Rename columns\n",
    "    df.columns = ['idx', 'state']\n",
    "    \n",
    "    # Copy the date/time stamps to a new field\n",
    "    df['time'] = df['idx']\n",
    "    \n",
    "    # Set the index and sort by date\n",
    "    df = df.set_index('idx')\n",
    "    df.index.rename(None, inplace=True)\n",
    "    df = df.sort_index()\n",
    "    \n",
    "    # Look for \"00\" and drop rows\n",
    "    # df.state.map('{:.0f}'.format)\n",
    "    # Not implemented yet\n",
    "               \n",
    "    return df\n",
    "\n",
    "\n",
    "# Now we call the function defined above and feed it a list of files we want to read\n",
    "xl_files = ['Clark 2012.xlsx', 'Clark 2014.xlsx', 'Clark 2015.xlsx']\n",
    "df_list = []\n",
    "for xl_file in xl_files:\n",
    "    df_list.append(open_excel(xl_file))\n",
    "    \n",
    "# Compile all of the yearly data together into a single DataFrame and sort by date\n",
    "df = pd.concat(df_list)\n",
    "df = df.sort_index()\n",
    "print df"
   ]
  },
  {
   "cell_type": "code",
   "execution_count": 50,
   "metadata": {
    "collapsed": false
   },
   "outputs": [
    {
     "data": {
      "text/plain": [
       "30830"
      ]
     },
     "execution_count": 50,
     "metadata": {},
     "output_type": "execute_result"
    }
   ],
   "source": [
    "len(df[df['state']==1])"
   ]
  },
  {
   "cell_type": "code",
   "execution_count": 51,
   "metadata": {
    "collapsed": false,
    "scrolled": true
   },
   "outputs": [
    {
     "name": "stdout",
     "output_type": "stream",
     "text": [
      "                     state     time\n",
      "2012-08-01 13:35:49     -1  0:00:33\n",
      "2012-08-01 13:36:22      1  1:03:28\n",
      "2012-08-01 14:39:50     -1  0:00:32\n",
      "2012-08-01 14:40:22      1  1:12:31\n",
      "2012-08-01 15:52:53     -1  0:00:32\n",
      "2012-08-01 15:53:25      1  0:19:47\n",
      "2012-08-01 16:13:12     -1  0:00:33\n",
      "2012-08-01 16:13:45      1  0:32:24\n",
      "2012-08-01 16:46:09     -1  0:00:39\n",
      "2012-08-01 16:46:48      1  0:53:31\n",
      "2012-08-01 17:40:19     -1  0:00:30\n",
      "2012-08-01 17:40:49      1  0:51:48\n",
      "2012-08-01 18:32:37     -1  0:00:31\n",
      "2012-08-01 18:33:08      1  0:28:21\n",
      "2012-08-01 19:01:29     -1  0:00:31\n",
      "2012-08-01 19:02:00      1  0:09:13\n",
      "2012-08-01 19:11:13     -1  0:00:33\n",
      "2012-08-01 19:11:46      1  0:27:36\n",
      "2012-08-01 19:39:22     -1  0:00:31\n",
      "2012-08-01 19:39:53      1  0:18:37\n",
      "2012-08-01 19:58:30     -1  0:00:35\n",
      "2012-08-01 19:59:05      1  0:28:02\n",
      "2012-08-01 20:27:07     -1  0:00:31\n",
      "2012-08-01 20:27:38      1  0:12:06\n",
      "2012-08-01 20:39:44     -1  0:00:31\n",
      "2012-08-01 20:40:15      1  0:16:16\n",
      "2012-08-01 20:56:31     -1  0:00:33\n",
      "2012-08-01 20:57:04      1  0:15:26\n",
      "2012-08-01 21:12:30     -1  0:00:32\n",
      "2012-08-01 21:13:02      1  1:06:06\n",
      "...                    ...      ...\n",
      "2015-09-01 23:33:37     -1  0:00:31\n",
      "2015-09-01 23:34:08      1  0:33:22\n",
      "2015-09-02 00:07:30     -1  0:00:37\n",
      "2015-09-02 00:08:07      1  0:02:23\n",
      "2015-09-02 00:10:30     -1  0:00:34\n",
      "2015-09-02 00:11:04      1  0:44:28\n",
      "2015-09-02 00:55:32     -1  0:00:31\n",
      "2015-09-02 00:56:03      1  0:15:04\n",
      "2015-09-02 01:11:07     -1  0:00:31\n",
      "2015-09-02 01:11:38      1  5:02:33\n",
      "2015-09-02 06:14:11     -1  0:00:49\n",
      "2015-09-02 06:15:00      1  0:00:58\n",
      "2015-09-02 06:15:58     -1  0:00:42\n",
      "2015-09-02 06:16:40      1  0:01:24\n",
      "2015-09-02 06:18:04     -1  0:00:42\n",
      "2015-09-02 06:18:46      1  0:34:04\n",
      "2015-09-02 06:52:50     -1  0:00:36\n",
      "2015-09-02 06:53:26      1  0:21:08\n",
      "2015-09-02 07:14:34     -1  0:00:31\n",
      "2015-09-02 07:15:05      1  2:59:29\n",
      "2015-09-02 10:14:34     -1  0:00:52\n",
      "2015-09-02 10:15:26      1  0:01:18\n",
      "2015-09-02 10:16:44     -1  0:00:42\n",
      "2015-09-02 10:17:26      1  0:01:25\n",
      "2015-09-02 10:18:51     -1  0:00:33\n",
      "2015-09-02 10:19:24      1  1:55:24\n",
      "2015-09-02 12:14:48     -1  0:00:49\n",
      "2015-09-02 12:15:37      1  0:01:26\n",
      "2015-09-02 12:17:03     -1  0:00:41\n",
      "2015-09-02 12:17:44    NaN      NaN\n",
      "\n",
      "[61666 rows x 2 columns]\n"
     ]
    }
   ],
   "source": [
    "# Compute the time difference between subsequent records\n",
    "time_diff = df.diff().shift(periods=-1)\n",
    "print time_diff"
   ]
  },
  {
   "cell_type": "code",
   "execution_count": 52,
   "metadata": {
    "collapsed": false,
    "scrolled": true
   },
   "outputs": [
    {
     "name": "stdout",
     "output_type": "stream",
     "text": [
      "2012-08-01 13:35:49   00:00:33\n",
      "2012-08-01 14:39:50   00:00:32\n",
      "2012-08-01 15:52:53   00:00:32\n",
      "2012-08-01 16:13:12   00:00:33\n",
      "2012-08-01 16:46:09   00:00:39\n",
      "2012-08-01 17:40:19   00:00:30\n",
      "2012-08-01 18:32:37   00:00:31\n",
      "2012-08-01 19:01:29   00:00:31\n",
      "2012-08-01 19:11:13   00:00:33\n",
      "2012-08-01 19:39:22   00:00:31\n",
      "2012-08-01 19:58:30   00:00:35\n",
      "2012-08-01 20:27:07   00:00:31\n",
      "2012-08-01 20:39:44   00:00:31\n",
      "2012-08-01 20:56:31   00:00:33\n",
      "2012-08-01 21:12:30   00:00:32\n",
      "2012-08-01 22:19:08   00:00:31\n",
      "2012-08-01 22:57:54   00:00:30\n",
      "2012-08-01 23:47:40   00:00:40\n",
      "2012-08-01 23:59:40   00:00:33\n",
      "2012-08-02 00:33:46   00:00:30\n",
      "2012-08-02 01:41:46   00:00:30\n",
      "2012-08-02 02:50:02   00:00:31\n",
      "2012-08-02 04:00:41   00:00:31\n",
      "2012-08-02 05:07:03   00:00:38\n",
      "2012-08-02 05:09:14   00:00:41\n",
      "2012-08-02 05:11:53   00:00:37\n",
      "2012-08-02 05:37:14   00:00:31\n",
      "2012-08-02 05:42:25   00:00:34\n",
      "2012-08-02 05:46:05   00:00:35\n",
      "2012-08-02 06:06:31   00:00:32\n",
      "                        ...   \n",
      "2015-08-31 22:27:58   00:00:29\n",
      "2015-08-31 22:44:56   00:00:31\n",
      "2015-08-31 23:30:14   00:00:35\n",
      "2015-09-01 06:05:25   00:00:36\n",
      "2015-09-01 06:12:31   00:00:32\n",
      "2015-09-01 06:22:41   00:00:35\n",
      "2015-09-01 07:37:56   00:00:32\n",
      "2015-09-01 07:54:34   00:00:32\n",
      "2015-09-01 07:59:02   00:00:30\n",
      "2015-09-01 12:20:12   00:00:29\n",
      "2015-09-01 15:41:05   00:00:31\n",
      "2015-09-01 19:55:25   00:00:31\n",
      "2015-09-01 21:43:30   00:00:33\n",
      "2015-09-01 22:36:07   00:00:35\n",
      "2015-09-01 23:08:52   00:00:30\n",
      "2015-09-01 23:33:37   00:00:31\n",
      "2015-09-02 00:07:30   00:00:37\n",
      "2015-09-02 00:10:30   00:00:34\n",
      "2015-09-02 00:55:32   00:00:31\n",
      "2015-09-02 01:11:07   00:00:31\n",
      "2015-09-02 06:14:11   00:00:49\n",
      "2015-09-02 06:15:58   00:00:42\n",
      "2015-09-02 06:18:04   00:00:42\n",
      "2015-09-02 06:52:50   00:00:36\n",
      "2015-09-02 07:14:34   00:00:31\n",
      "2015-09-02 10:14:34   00:00:52\n",
      "2015-09-02 10:16:44   00:00:42\n",
      "2015-09-02 10:18:51   00:00:33\n",
      "2015-09-02 12:14:48   00:00:49\n",
      "2015-09-02 12:17:03   00:00:41\n",
      "Name: time, dtype: timedelta64[ns]\n"
     ]
    }
   ],
   "source": [
    "# Since the data should be purely sequential (on/off) we can assume that all records with a state value of -1 correspond to \n",
    "# times when the pump was on and all records with a state value of 1 correspond to times when the pump was off.\n",
    "pump_on = time_diff[time_diff['state']==-1]['time']\n",
    "pump_off = time_diff[time_diff['state']==1]['time']\n",
    "print pump_on"
   ]
  },
  {
   "cell_type": "code",
   "execution_count": 53,
   "metadata": {
    "collapsed": false
   },
   "outputs": [],
   "source": [
    "# Aggregate the pump-on time by day and export to a .csv file\n",
    "daily_pump_runtime = pump_on.groupby([pd.TimeGrouper(freq='D')]).aggregate(np.sum).astype('timedelta64[s]') / 60.\n",
    "# daily_pump_runtime.to_csv('runtime.csv')"
   ]
  },
  {
   "cell_type": "code",
   "execution_count": 54,
   "metadata": {
    "collapsed": false
   },
   "outputs": [
    {
     "data": {
      "image/png": "[encoded data removed]",
      "text/plain": [
       "<matplotlib.figure.Figure at 0xd404b00>"
      ]
     },
     "metadata": {},
     "output_type": "display_data"
    }
   ],
   "source": [
    "# Plot the results\n",
    "fig, ax = plt.subplots(figsize=(12, 5))\n",
    "ax.bar(daily_pump_runtime.index, daily_pump_runtime, width=1)\n",
    "ax.xaxis_date()\n",
    "ax.xaxis.set_minor_locator(dates.MonthLocator())\n",
    "ax.xaxis.set_major_locator(dates.YearLocator())\n",
    "ax.set_ylabel('Daily runtime, in minutes')\n",
    "plt.title('Clark')\n",
    "plt.tight_layout()\n",
    "plt.savefig('Clark.png')"
   ]
  },
  {
   "cell_type": "code",
   "execution_count": 55,
   "metadata": {
    "collapsed": false
   },
   "outputs": [
    {
     "name": "stdout",
     "output_type": "stream",
     "text": [
      "0.95 233.033333333 21.9006798246 16.4518944225\n",
      "2014-06-21     57.366667\n",
      "2014-06-25     58.166667\n",
      "2014-06-26     56.616667\n",
      "2014-06-27     62.716667\n",
      "2014-06-30     61.650000\n",
      "2014-07-01     66.816667\n",
      "2014-07-02     65.683333\n",
      "2014-07-03     62.883333\n",
      "2014-07-04     89.933333\n",
      "2014-07-05     78.616667\n",
      "2014-07-06     77.316667\n",
      "2014-07-07     71.866667\n",
      "2014-07-08     72.300000\n",
      "2014-07-09     78.783333\n",
      "2014-07-10     74.983333\n",
      "2014-07-11     76.416667\n",
      "2014-07-12     77.783333\n",
      "2014-07-15     57.533333\n",
      "2014-10-10     77.566667\n",
      "2014-10-11    233.033333\n",
      "2014-10-12    103.550000\n",
      "2014-10-26     59.583333\n",
      "2014-11-02     56.550000\n",
      "2014-11-10     64.650000\n",
      "2014-12-17     71.716667\n",
      "2015-02-20     64.216667\n",
      "2015-05-10     60.150000\n",
      "2015-08-11     99.233333\n",
      "2015-08-12    135.883333\n",
      "Name: time, dtype: float64\n"
     ]
    }
   ],
   "source": [
    "# Look at min, max, mean and view outliers\n",
    "print daily_pump_runtime.min(), daily_pump_runtime.max(), daily_pump_runtime.mean(), daily_pump_runtime.std()\n",
    "print daily_pump_runtime[daily_pump_runtime > (daily_pump_runtime.mean() + daily_pump_runtime.std()*2)]"
   ]
  },
  {
   "cell_type": "code",
   "execution_count": 59,
   "metadata": {
    "collapsed": false,
    "scrolled": true
   },
   "outputs": [
    {
     "name": "stdout",
     "output_type": "stream",
     "text": [
      "            runtime_minutes   wu_low       wu_med      wu_high\n",
      "2012-08-01        10.350000   155.25   181.125000   207.000000\n",
      "2012-08-02        22.816667   342.25   399.291667   456.333333\n",
      "2012-08-03        21.016667   315.25   367.791667   420.333333\n",
      "2012-08-04        22.816667   342.25   399.291667   456.333333\n",
      "2012-08-05        28.933333   434.00   506.333333   578.666667\n",
      "2012-08-06        23.950000   359.25   419.125000   479.000000\n",
      "2012-08-07        18.083333   271.25   316.458333   361.666667\n",
      "2012-08-08        19.650000   294.75   343.875000   393.000000\n",
      "2012-08-09        20.833333   312.50   364.583333   416.666667\n",
      "2012-08-10        19.900000   298.50   348.250000   398.000000\n",
      "2012-08-11        20.633333   309.50   361.083333   412.666667\n",
      "2012-08-12        23.916667   358.75   418.541667   478.333333\n",
      "2012-08-13        23.250000   348.75   406.875000   465.000000\n",
      "2012-08-14        18.783333   281.75   328.708333   375.666667\n",
      "2012-08-15        25.666667   385.00   449.166667   513.333333\n",
      "2012-08-16        31.400000   471.00   549.500000   628.000000\n",
      "2012-08-17        18.050000   270.75   315.875000   361.000000\n",
      "2012-08-18        15.850000   237.75   277.375000   317.000000\n",
      "2012-08-19        23.933333   359.00   418.833333   478.666667\n",
      "2012-08-20        25.850000   387.75   452.375000   517.000000\n",
      "2012-08-21        19.350000   290.25   338.625000   387.000000\n",
      "2012-08-22        21.833333   327.50   382.083333   436.666667\n",
      "2012-08-23        20.433333   306.50   357.583333   408.666667\n",
      "2012-08-24        22.350000   335.25   391.125000   447.000000\n",
      "2012-08-25        20.366667   305.50   356.416667   407.333333\n",
      "2012-08-26        28.283333   424.25   494.958333   565.666667\n",
      "2012-08-27        24.183333   362.75   423.208333   483.666667\n",
      "2012-08-28        21.450000   321.75   375.375000   429.000000\n",
      "2012-08-29        24.283333   364.25   424.958333   485.666667\n",
      "2012-08-30        22.400000   336.00   392.000000   448.000000\n",
      "...                     ...      ...          ...          ...\n",
      "2015-07-31         4.566667    68.50    79.916667    91.333333\n",
      "2015-08-04        12.483333   187.25   218.458333   249.666667\n",
      "2015-08-05        14.633333   219.50   256.083333   292.666667\n",
      "2015-08-06         7.650000   114.75   133.875000   153.000000\n",
      "2015-08-07         7.583333   113.75   132.708333   151.666667\n",
      "2015-08-08         3.950000    59.25    69.125000    79.000000\n",
      "2015-08-09         7.316667   109.75   128.041667   146.333333\n",
      "2015-08-10         5.733333    86.00   100.333333   114.666667\n",
      "2015-08-11        99.233333  1488.50  1736.583333  1984.666667\n",
      "2015-08-12       135.883333  2038.25  2377.958333  2717.666667\n",
      "2015-08-13         8.800000   132.00   154.000000   176.000000\n",
      "2015-08-14         7.633333   114.50   133.583333   152.666667\n",
      "2015-08-15        10.566667   158.50   184.916667   211.333333\n",
      "2015-08-16        14.833333   222.50   259.583333   296.666667\n",
      "2015-08-17         6.883333   103.25   120.458333   137.666667\n",
      "2015-08-18        11.450000   171.75   200.375000   229.000000\n",
      "2015-08-19         6.983333   104.75   122.208333   139.666667\n",
      "2015-08-20         9.533333   143.00   166.833333   190.666667\n",
      "2015-08-21         7.800000   117.00   136.500000   156.000000\n",
      "2015-08-22        33.233333   498.50   581.583333   664.666667\n",
      "2015-08-23         9.816667   147.25   171.791667   196.333333\n",
      "2015-08-24        16.583333   248.75   290.208333   331.666667\n",
      "2015-08-25         6.266667    94.00   109.666667   125.333333\n",
      "2015-08-26        19.750000   296.25   345.625000   395.000000\n",
      "2015-08-27         7.750000   116.25   135.625000   155.000000\n",
      "2015-08-28        15.366667   230.50   268.916667   307.333333\n",
      "2015-08-29        13.783333   206.75   241.208333   275.666667\n",
      "2015-08-30        16.250000   243.75   284.375000   325.000000\n",
      "2015-08-31        16.583333   248.75   290.208333   331.666667\n",
      "2015-09-01         6.950000   104.25   121.625000   139.000000\n",
      "\n",
      "[759 rows x 4 columns]\n"
     ]
    }
   ],
   "source": [
    "# Compute water use in gallons per day\n",
    "low_flow_rate = 15.\n",
    "med_flow_rate = 17.5 \n",
    "high_flow_rate = 20.\n",
    "\n",
    "wu_low = daily_pump_runtime * low_flow_rate\n",
    "wu_med = daily_pump_runtime * med_flow_rate\n",
    "wu_high = daily_pump_runtime * high_flow_rate\n",
    "\n",
    "wu = pd.concat([daily_pump_runtime, wu_low, wu_med, wu_high], axis=1)\n",
    "wu.columns = ['runtime_minutes', 'wu_low', 'wu_med', 'wu_high']\n",
    "wu.to_csv('water_use_gpd.csv')\n",
    "\n",
    "print wu.ix[:-1]"
   ]
  },
  {
   "cell_type": "code",
   "execution_count": 58,
   "metadata": {
    "collapsed": false
   },
   "outputs": [
    {
     "name": "stdout",
     "output_type": "stream",
     "text": [
      "runtime_minutes     21.900680\n",
      "low                328.510197\n",
      "med                383.261897\n",
      "high               438.013596\n",
      "dtype: float64\n"
     ]
    }
   ],
   "source": [
    "# Compute average water use (gallons per day)\n",
    "wu_gpd = wu.mean()\n",
    "print wu_gpd"
   ]
  },
  {
   "cell_type": "code",
   "execution_count": null,
   "metadata": {
    "collapsed": true
   },
   "outputs": [],
   "source": []
  }
 ],
 "metadata": {
  "kernelspec": {
   "display_name": "Python 2",
   "language": "python",
   "name": "python2"
  },
  "language_info": {
   "codemirror_mode": {
    "name": "ipython",
    "version": 2
   },
   "file_extension": ".py",
   "mimetype": "text/x-python",
   "name": "python",
   "nbconvert_exporter": "python",
   "pygments_lexer": "ipython2",
   "version": "2.7.6"
  }
 },
 "nbformat": 4,
 "nbformat_minor": 0
}
