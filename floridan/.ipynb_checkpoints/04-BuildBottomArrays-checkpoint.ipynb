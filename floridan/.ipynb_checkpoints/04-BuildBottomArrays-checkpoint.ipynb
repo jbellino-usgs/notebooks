{
 "metadata": {
  "name": "",
  "signature": "sha256:6ba669475e0c1740595de32483f5f54a482bbe53b872e6d30dbd0b4e698075ea"
 },
 "nbformat": 3,
 "nbformat_minor": 0,
 "worksheets": [
  {
   "cells": [
    {
     "cell_type": "markdown",
     "metadata": {},
     "source": [
      "# Build Bottom Arrays\n",
      "This notebook is used to compute the model top and layer bottoms based on the layering scheme depicted below using extents of each unit and relevant surfaces from the revised framework.\n",
      "\n",
      "<div>\n",
      "<a href='images/pp1807_fig_06_crop_model_layers.png'><img width='500' height='auto' src='images/pp1807_fig_06_crop_model_layers.png' style=\"float: left;\"/></a>\n",
      "</div>"
     ]
    },
    {
     "cell_type": "markdown",
     "metadata": {},
     "source": [
      "###Import modules and setup workspace"
     ]
    },
    {
     "cell_type": "code",
     "collapsed": false,
     "input": [
      "import numpy as np\n",
      "import paths\n",
      "import fasgas_plotter\n",
      "import fasgas_utils\n",
      "\n",
      "from fasgas_figparams import *\n",
      "from fasgas_rcparams import *\n",
      "\n",
      "# This is the model grid to be used\n",
      "grid = r'..\\gis\\grids\\grid_5000ft_v3\\grid.shp'\n",
      "\n",
      "# Read metadata associated with the model grid\n",
      "ul_x, ul_y, delx, dely, nrow, ncol, rotation, proj4 = fasgas_utils.import_grid_metadata(grid)\n",
      "\n",
      "fw_dir = r'dat\\fw'\n",
      "extent_dir = r'dat\\extent'\n",
      "out_dir = r'ref'\n",
      "\n",
      "# Specify the minimum thickness for any given layer\n",
      "pad = 10.\n",
      "\n",
      "fmt = '%5.0f'"
     ],
     "language": "python",
     "metadata": {},
     "outputs": [
      {
       "output_type": "stream",
       "stream": "stdout",
       "text": [
        "path verified:  D:\\Data\\Users\\jbellino\\Project\\faswam\\model\n",
        "path verified:  D:\\Data\\Users\\jbellino\\Project\\faswam\\model\\bin\n",
        "path verified:  D:\\Data\\Users\\jbellino\\Project\\faswam\\model\\v_0.01\n",
        "path verified:  D:\\Data\\Users\\jbellino\\Project\\faswam\\model\\v_0.01\\gis\n",
        "path verified:  D:\\Data\\Users\\jbellino\\Project\\faswam\\model\\v_0.01\\ref\n",
        "path verified:  D:\\Data\\Users\\jbellino\\Project\\faswam\\model\\v_0.01\\images\n",
        "path verified:  D:\\Data\\Users\\jbellino\\Project\\faswam\\model\\v_0.01\\python\n",
        "Loaded"
       ]
      },
      {
       "output_type": "stream",
       "stream": "stdout",
       "text": [
        " D:\\Data\\Users\\jbellino\\Project\\faswam\\model\\python\\fasgas_figparams.py\n",
        "Loaded D:\\Data\\Users\\jbellino\\Project\\faswam\\model\\python\\fasgas_rcparams.py\n"
       ]
      }
     ],
     "prompt_number": 1
    },
    {
     "cell_type": "markdown",
     "metadata": {},
     "source": [
      "###Load framework surfaces"
     ]
    },
    {
     "cell_type": "code",
     "collapsed": false,
     "input": [
      "lsd = np.loadtxt(os.path.join(fw_dir, 'LSD.dat'))\n",
      "plt_3 = np.loadtxt(os.path.join(fw_dir, 'PLT_03.dat')) # Thickness of UCU\n",
      "plt_4 = np.loadtxt(os.path.join(fw_dir, 'PLT_04.dat')) # Top of FAS\n",
      "fig_20 = np.loadtxt(os.path.join(fw_dir, 'FIG_20.dat')) # Thickness of SAS\n",
      "fig_23 = np.loadtxt(os.path.join(fw_dir, 'FIG_23.dat')) # Base of FAS\n",
      "fig_28 = np.loadtxt(os.path.join(fw_dir, 'FIG_28.dat')) # Top of OCAPLPZ\n",
      "fig_30 = np.loadtxt(os.path.join(fw_dir, 'FIG_30.dat')) # Top of APPZ\n",
      "fig_32 = np.loadtxt(os.path.join(fw_dir, 'FIG_32.dat')) # Thickness of the UFA\n",
      "fig_44 = np.loadtxt(os.path.join(fw_dir, 'FIG_44.dat')) # Top of LFA\n",
      "fig_48 = np.loadtxt(os.path.join(fw_dir, 'FIG_48.dat')) # Top of the Glauconite Marker Unit\n",
      "fig_49 = np.loadtxt(os.path.join(fw_dir, 'FIG_49.dat')) # Top of the OLDSPZ\n",
      "top_10000_tds = np.loadtxt(os.path.join(fw_dir, 'TOP_10000_TDS.dat'))"
     ],
     "language": "python",
     "metadata": {},
     "outputs": [],
     "prompt_number": 2
    },
    {
     "cell_type": "markdown",
     "metadata": {},
     "source": [
      "###Load ibound arrays"
     ]
    },
    {
     "cell_type": "code",
     "collapsed": false,
     "input": [
      "ibnd_l1 = np.loadtxt(r'ref\\fasgas_ibnd_L1.ref')\n",
      "ibnd_l2 = np.loadtxt(r'ref\\fasgas_ibnd_L2.ref')\n",
      "ibnd_l3 = np.loadtxt(r'ref\\fasgas_ibnd_L3.ref')\n",
      "ibnd_l4 = np.loadtxt(r'ref\\fasgas_ibnd_L4.ref')\n",
      "ibnd_l5 = np.loadtxt(r'ref\\fasgas_ibnd_L5.ref')\n",
      "ibnd_l6 = np.loadtxt(r'ref\\fasgas_ibnd_L6.ref')\n",
      "ibnd_l7 = np.loadtxt(r'ref\\fasgas_ibnd_L7.ref')\n",
      "ibnd_l8 = np.loadtxt(r'ref\\fasgas_ibnd_L8.ref')\n",
      "ibnd_l9 = np.loadtxt(r'ref\\fasgas_ibnd_L9.ref')"
     ],
     "language": "python",
     "metadata": {},
     "outputs": [],
     "prompt_number": 3
    },
    {
     "cell_type": "markdown",
     "metadata": {},
     "source": [
      "###Load extent arrays"
     ]
    },
    {
     "cell_type": "code",
     "collapsed": false,
     "input": [
      "ext_FAS = np.loadtxt(os.path.join(extent_dir, 'FASGAS_EXT_FAS.dat'))\n",
      "ext_SAS = np.loadtxt(os.path.join(extent_dir, 'FASGAS_EXT_SAS.dat'))\n",
      "ext_UCU = np.loadtxt(os.path.join(extent_dir, 'FASGAS_EXT_UCU.dat'))\n",
      "ext_UPZ = np.loadtxt(os.path.join(extent_dir, 'FASGAS_EXT_UPZ.dat'))\n",
      "ext_OCAPLPZ = np.loadtxt(os.path.join(extent_dir, 'FASGAS_EXT_OCAPLPZ.dat'))\n",
      "ext_APPZ = np.loadtxt(os.path.join(extent_dir, 'FASGAS_EXT_APPZ.dat'))\n",
      "ext_BC = np.loadtxt(os.path.join(extent_dir, 'FASGAS_EXT_BC.dat'))\n",
      "ext_LISAPCU = np.loadtxt(os.path.join(extent_dir, 'FASGAS_EXT_LISAPCU.dat'))\n",
      "ext_MAPCU = np.loadtxt(os.path.join(extent_dir, 'FASGAS_EXT_MAPCU.dat'))\n",
      "ext_LAPPZ = np.loadtxt(os.path.join(extent_dir, 'FASGAS_EXT_LAPPZ.dat'))\n",
      "ext_GLAUCU = np.loadtxt(os.path.join(extent_dir, 'FASGAS_EXT_GLAUCU.dat'))\n",
      "ext_OLDSPZ = np.loadtxt(os.path.join(extent_dir, 'FASGAS_EXT_OLDSPZ.dat'))"
     ],
     "language": "python",
     "metadata": {},
     "outputs": [],
     "prompt_number": 4
    },
    {
     "cell_type": "markdown",
     "metadata": {},
     "source": [
      "###Compute top of model"
     ]
    },
    {
     "cell_type": "code",
     "collapsed": false,
     "input": [
      "top = np.copy(lsd)"
     ],
     "language": "python",
     "metadata": {},
     "outputs": [],
     "prompt_number": 5
    },
    {
     "cell_type": "markdown",
     "metadata": {},
     "source": [
      "###Compute bottom of Layer 1\n",
      "Bottom of layer 1 is computed as the model top minus the thickness of the SAS (fig 20). Where thickness is zero or negative, set the bottom of layer 1 to the model top minus the minimum layer thickness. Force bottom of layer 1 below top of the model.\n",
      "\n",
      "<div>\n",
      "<a href='images/pp1807_51.png'><img width='400' height='auto' src='images/pp1807_51.png' style=\"float: left;\"/></a>\n",
      "</div>"
     ]
    },
    {
     "cell_type": "code",
     "collapsed": false,
     "input": [
      "botm_l1 = top - fig_20\n",
      "\n",
      "# Set bottom of layer 1 to the model top minus minimum layer thickness in areas where thickness of the SAS is zero or negative.\n",
      "x, y = np.where(fig_20<=0.)\n",
      "\n",
      "if len(x) > 0:\n",
      "    botm_l1[x, y] = top[x, y] - pad\n",
      "    \n",
      "# Force bottom of layer 1 below top of model\n",
      "x, y = np.where(botm_l1>=(top-pad))\n",
      "\n",
      "if len(x) > 0:\n",
      "    botm_l1[x, y] = top[x, y] - pad\n",
      "    \n",
      "# Clip to active ibound area\n",
      "x, y = np.where(ibnd_l1==0)\n",
      "botm_l1[x, y] = np.nan"
     ],
     "language": "python",
     "metadata": {},
     "outputs": [
      {
       "output_type": "stream",
       "stream": "stderr",
       "text": [
        "-c:9: RuntimeWarning: invalid value encountered in greater_equal\n"
       ]
      }
     ],
     "prompt_number": 10
    },
    {
     "cell_type": "markdown",
     "metadata": {},
     "source": [
      "###Compute bottom of Layer 2\n",
      "Bottom of layer 2 is computed as the top of the FAS (plate 4). The bottom of layer 2 is forced below the bottom of layer 1, minus the minimum layer thickness.\n",
      "\n",
      "<div>\n",
      "<a href='images/pp1807_plates_all_4.png'><img width='400' height='auto' src='images/pp1807_plates_all_4.png' style=\"float: left;\"/></a>\n",
      "</div>"
     ]
    },
    {
     "cell_type": "code",
     "collapsed": false,
     "input": [
      "botm_l2 = plt_4\n",
      "\n",
      "# Force bottom of layer 2 below bottom of layer 1, minus minimum layer thickness\n",
      "x, y = np.where(botm_l2 >= (botm_l1-pad))\n",
      "\n",
      "if len(x) > 0:\n",
      "    botm_l2[x, y] = botm_l1[x, y] - pad\n",
      "        \n",
      "# Clip to active ibound area\n",
      "x, y = np.where(ibnd_l2==0)\n",
      "botm_l2[x, y] = np.nan"
     ],
     "language": "python",
     "metadata": {},
     "outputs": [],
     "prompt_number": 11
    },
    {
     "cell_type": "markdown",
     "metadata": {},
     "source": [
      "###Compute bottom of Layer 3\n",
      "Bottom of layer 3 is computed as the maximum of the top of the OCAPLPZ (fig 28), where it exists; the top of the LISAPCU (fig 33), where it exists; or the top of the Bucatunna Clay (fig 43), where it exists.\n",
      "\n",
      "<div>\n",
      "<a href='images/pp1807_70.png'><img width='300' height='auto' src='images/pp1807_70.png' style=\"float: left;\"/></a>\n",
      "<a href='images/pp1807_83.png'><img width='300' height='auto' src='images/pp1807_83.png' style=\"float: left;\"/></a>\n",
      "<a href='images/pp1807_99.png'><img width='300' height='auto' src='images/pp1807_99.png' style=\"float: left;\"/></a>\n",
      "</div>"
     ]
    },
    {
     "cell_type": "code",
     "collapsed": false,
     "input": [
      "#NOTE: NEED TO GET FIGURES 33 AND 43 EXTENDED BY JOANN\n",
      "\n",
      "# Initialize bottom of layer 3\n",
      "botm_l3 = np.zeros((nrow, ncol), dtype=np.int)*-9999\n",
      "\n",
      "# Find the maximum altitude of areas where the BC and LISAPCU overlap\n",
      "a = np.maximum.reduce([fig_33, fig_43])\n",
      "x, y = np.where(a != np.nan)\n",
      "botm_l3[x, y] = a[x, y]\n",
      "\n",
      "# Find the maximum altitude of areas where the LISAPCU and OCAPLPZ overlap\n",
      "b = np.maximum.reduce([fig_28, fig_43])\n",
      "x, y = np.where(b != np.nan)\n",
      "botm_l3[x, y] = b[x, y]\n",
      "\n",
      "# Set bottom of layer 3 equal to the top of the LISAPCU in all other areas\n",
      "x, y = np.where((botm_l3==-9999) & (fig_43 != np.nan))\n",
      "botm_l3[x, y] = fig_43[x, y]\n",
      "\n",
      "# Set bottom of layer 3 to bottom of layer 2, minus minimum thickness where none of these units exist (Citrus County, FL)\n",
      "x, y = np.where(botm_l3==-9999)\n",
      "botm_l3[x, y] = botm_l2[x, y] - pad\n",
      "    \n",
      "# Clip to active ibound area\n",
      "x, y = np.where(ibnd_l3==0)\n",
      "botm_l3[x, y] = np.nan"
     ],
     "language": "python",
     "metadata": {},
     "outputs": []
    },
    {
     "cell_type": "markdown",
     "metadata": {},
     "source": [
      "###Compute bottom of Layer 4\n",
      "Bottom of layer 4 is computed as the minimum of the top of the APPZ (fig 30), where it exists or the base of the LISAPCU and Bucatunna Clay (fig 45), where they exist.\n",
      "\n",
      "<div>\n",
      "<a href='images/pp1807_79.png'><img width='400' height='auto' src='images/pp1807_79.png' style=\"float: left;\"/></a>\n",
      "<a href='images/pp1807_102.png'><img width='400' height='auto' src='images/pp1807_102.png' style=\"float: left;\"/></a>\n",
      "</div>"
     ]
    },
    {
     "cell_type": "code",
     "collapsed": false,
     "input": [
      "#NOTE: NEED TO GET FIGURE 45 EXTENDED BY JOANN\n",
      "\n",
      "# Initialize bottom of layer 4\n",
      "botm_l4 = np.zeros((nrow, ncol), dtype=np.int)*-9999\n",
      "\n",
      "# Find the minimum altitude of areas where the LISAPCU and APPZ overlap\n",
      "a = np.minimum.reduce([fig_30, fig_45])\n",
      "x, y = np.where(a != np.nan)\n",
      "botm_l4[x, y] = a[x, y]\n",
      "\n",
      "# Set bottom of layer 4 equal to the top of the APPZ in all other areas where it exists\n",
      "x, y = np.where((botm_l4==-9999) & (fig_30 != np.nan))\n",
      "botm_l4[x, y] = fig_30[x, y]\n",
      "\n",
      "# Set bottom of layer 4 equal to the base of the LISAPCU and Bucatunna Clay in all other areas where they exist\n",
      "x, y = np.where((botm_l4==-9999) & (fig_45 != np.nan))\n",
      "botm_l4[x, y] = fig_45[x, y]\n",
      "\n",
      "# Set bottom of layer 4 to bottom of layer 3, minus minimum thickness where none of these units exist (Citrus County, FL)\n",
      "x, y = np.where(botm_l4==-9999)\n",
      "botm_l4[x, y] = botm_l3[x, y] - pad\n",
      "    \n",
      "# Clip to active ibound area\n",
      "x, y = np.where(ibnd_l4==0)\n",
      "botm_l4[x, y] = np.nan"
     ],
     "language": "python",
     "metadata": {},
     "outputs": []
    },
    {
     "cell_type": "markdown",
     "metadata": {},
     "source": [
      "###Compute bottom of Layer 5\n",
      "Bottom of layer 5 is computed as the top of the MAPCU (fig 38), where it exists or the bottom of layer 4 minus the minimum layer thickness.\n",
      "\n",
      "<div>\n",
      "<a href='images/pp1807_93.png'><img width='400' height='auto' src='images/pp1807_93.png' style=\"float: left;\"/></a>\n",
      "</div>"
     ]
    },
    {
     "cell_type": "code",
     "collapsed": false,
     "input": [
      "# NOTE: NEED TO GET FIGURE 38 EXTENTED BY JOANN\n",
      "\n",
      "botm_l5 = botm_l4 - pad\n",
      "botm_l5 = fig_38\n",
      "\n",
      "# Force bottom of layer 5 below bottom of layer 4\n",
      "x, y = np.where(botm_l5>=(botm_l4-pad))\n",
      "if len(x) > 0:\n",
      "    botm_l5[x, y] = botm_l4[x, y] - pad\n",
      "        \n",
      "# Clip to active ibound area\n",
      "x, y = np.where(ibnd_l5==0)\n",
      "botm_l5[x, y] = np.nan"
     ],
     "language": "python",
     "metadata": {},
     "outputs": []
    },
    {
     "cell_type": "markdown",
     "metadata": {},
     "source": [
      "###Compute bottom of Layer 6\n",
      "Bottom of layer 6 is computed as the base of the MAPCU (fig 46), where it exists.\n",
      "\n",
      "<div>\n",
      "<a href='images/pp1807_110.png'><img width='400' height='auto' src='images/pp1807_110.png' style=\"float: left;\"/></a>\n",
      "</div>"
     ]
    },
    {
     "cell_type": "code",
     "collapsed": false,
     "input": [
      "# NOTE: NEED TO GET FIGURE 46 EXTENTED BY JOANN\n",
      "\n",
      "botm_l6 = botm_l5 - pad\n",
      "\n",
      "# Set bottom of layer 6 to the base of the MAPCU, where it exists\n",
      "x, y = np.where(fig_46 != np.nan)\n",
      "botm_l6[x, y] = fig_46[x, y]\n",
      "\n",
      "# Force bottom of layer 6 below bottom of layer 5\n",
      "x, y = np.where(botm_l6>=(botm_l5-pad))\n",
      "if len(x) > 0:\n",
      "    botm_l6[x, y] = botm_l5[x, y] - pad\n",
      "        \n",
      "# Clip to active ibound area\n",
      "x, y = np.where(ibnd_l6==0)\n",
      "botm_l6[x, y] = np.nan"
     ],
     "language": "python",
     "metadata": {},
     "outputs": []
    },
    {
     "cell_type": "markdown",
     "metadata": {},
     "source": [
      "###Compute bottom of Layer 7\n",
      "Bottom of layer 7 is computed as the top of the GLAUCU (fig 48), where it exists or the base of the FAS (fig 23).\n",
      "\n",
      "<div>\n",
      "<a href='images/pp1807_59.png'><img width='400' height='auto' src='images/pp1807_59.png' style=\"float: left;\"/></a>\n",
      "<a href='images/pp1807_113.png'><img width='400' height='auto' src='images/pp1807_113.png' style=\"float: left;\"/></a>\n",
      "</div>"
     ]
    },
    {
     "cell_type": "code",
     "collapsed": false,
     "input": [
      "botm_l7 = fig_23\n",
      "\n",
      "# Identify the small area in SW Florida where the GLAUCU is missing and (for now) set bottom of layer 7 to the bottom\n",
      "# of layer 6 minus the minimum layer thickness - need to find a better way to interpolate this surface\n",
      "x, y = np.where((ext_GLAUCU==0) & (ext_OLDSPZ==1))\n",
      "botm_l7[x, y] = botm_l6[x, y]\n",
      "\n",
      "# Set bottom of layer 7 to the top of the GLAUCU, where it exists\n",
      "x, y = np.where(fig_48 != np.nan)\n",
      "botm_l7[x, y] = fig_48[x, y]\n",
      "\n",
      "# Force bottom of layer 7 below bottom of layer 6\n",
      "x, y = np.where(botm_l7>=(botm_l6-pad))\n",
      "if len(x) > 0:\n",
      "    botm_l7[x, y] = botm_l6[x, y] - pad\n",
      "        \n",
      "# Clip to active ibound area\n",
      "x, y = np.where(ibnd_l7==0)\n",
      "botm_l7[x, y] = np.nan"
     ],
     "language": "python",
     "metadata": {},
     "outputs": []
    },
    {
     "cell_type": "markdown",
     "metadata": {},
     "source": [
      "###Compute bottom of Layer 8\n",
      "Bottom of layer 8 is computed as the base of top of the OLDSPZ (fig 49).\n",
      "\n",
      "<div>\n",
      "<a href='images/pp1807_122.png'><img width='400' height='auto' src='images/pp1807_122.png' style=\"float: left;\"/></a>\n",
      "</div>"
     ]
    },
    {
     "cell_type": "code",
     "collapsed": false,
     "input": [
      "botm_l8 = fig_49\n",
      "\n",
      "# Force bottom of layer 8 below bottom of layer 7\n",
      "x, y = np.where(botm_l8>=(botm_l7-pad))\n",
      "if len(x) > 0:\n",
      "    botm_l8[x, y] = botm_l7[x, y] - pad\n",
      "        \n",
      "# Clip to active ibound area\n",
      "x, y = np.where(ibnd_l8==0)\n",
      "botm_l8[x, y] = np.nan"
     ],
     "language": "python",
     "metadata": {},
     "outputs": [],
     "prompt_number": 12
    },
    {
     "cell_type": "markdown",
     "metadata": {},
     "source": [
      "###Compute bottom of Layer 9\n",
      "Bottom of layer 9 is computed as the base of the FAS (fig 23).\n",
      "\n",
      "<div>\n",
      "<a href='images/pp1807_59.png'><img width='400' height='auto' src='images/pp1807_59.png' style=\"float: left;\"/></a>\n",
      "</div>"
     ]
    },
    {
     "cell_type": "code",
     "collapsed": false,
     "input": [
      "botm_l9 = fig_23\n",
      "\n",
      "# Force bottom of layer 9 below bottom of layer 8\n",
      "x, y = np.where(botm_l9>=(botm_l8-pad))\n",
      "if len(x) > 0:\n",
      "    botm_l9[x, y] = botm_l8[x, y] - pad\n",
      "        \n",
      "# Clip to active ibound area\n",
      "x, y = np.where(ibnd_l9==0)\n",
      "botm_l9[x, y] = np.nan"
     ],
     "language": "python",
     "metadata": {},
     "outputs": [],
     "prompt_number": 13
    },
    {
     "cell_type": "markdown",
     "metadata": {},
     "source": [
      "###Save arrays"
     ]
    },
    {
     "cell_type": "code",
     "collapsed": false,
     "input": [
      "np.savetxt(os.path.join(out_dir, 'fasgas_top.ref'), top, fmt=fmt)\n",
      "np.savetxt(os.path.join(out_dir, 'fasgas_botm_L1.ref'), botm_l1, fmt=fmt)\n",
      "np.savetxt(os.path.join(out_dir, 'fasgas_botm_L2.ref'), botm_l2, fmt=fmt)\n",
      "np.savetxt(os.path.join(out_dir, 'fasgas_botm_L3.ref'), botm_l3, fmt=fmt)\n",
      "np.savetxt(os.path.join(out_dir, 'fasgas_botm_L4.ref'), botm_l4, fmt=fmt)\n",
      "np.savetxt(os.path.join(out_dir, 'fasgas_botm_L5.ref'), botm_l5, fmt=fmt)\n",
      "np.savetxt(os.path.join(out_dir, 'fasgas_botm_L6.ref'), botm_l6, fmt=fmt)\n",
      "np.savetxt(os.path.join(out_dir, 'fasgas_botm_L7.ref'), botm_l7, fmt=fmt)\n",
      "np.savetxt(os.path.join(out_dir, 'fasgas_botm_L8.ref'), botm_l8, fmt=fmt)\n",
      "np.savetxt(os.path.join(out_dir, 'fasgas_botm_L9.ref'), botm_l9, fmt=fmt)"
     ],
     "language": "python",
     "metadata": {},
     "outputs": [],
     "prompt_number": 23
    },
    {
     "cell_type": "code",
     "collapsed": false,
     "input": [],
     "language": "python",
     "metadata": {},
     "outputs": [],
     "prompt_number": 23
    }
   ],
   "metadata": {}
  }
 ]
}