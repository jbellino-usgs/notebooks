{
 "metadata": {
  "name": "",
  "signature": "sha256:6de610099350140d35862c440ad27212cfcd4a11d0710da5140aa84c01daeda9"
 },
 "nbformat": 3,
 "nbformat_minor": 0,
 "worksheets": [
  {
   "cells": [
    {
     "cell_type": "markdown",
     "metadata": {},
     "source": [
      "# Build Framework Surfaces\n",
      "This notebook is used to apply raster surfaces from the revised hydrogeologic framework of the Floridan aquifer system (<a href=\"http://dx.doi.org/10.3133/ds926\">Williams and Dixon, 2015</a>) onto the specified model grid.\n",
      "\n",
      "The output is a series of ascii grids which consist of the mean framework-surface value for each model cell, readable by numpy."
     ]
    },
    {
     "cell_type": "code",
     "collapsed": false,
     "input": [
      "import os\n",
      "import arcpy\n",
      "import numpy as np\n",
      "import paths\n",
      "import fasgas_plotter\n",
      "import fasgas_utils\n",
      "\n",
      "from fasgas_figparams import *\n",
      "from fasgas_rcparams import *\n",
      "\n",
      "arcpy.env.cellSize = 1000. # important to ensure a calculation is made for each zone/cell\n",
      "\n",
      "# Set some arcpy variables\n",
      "arcpy.CheckOutExtension(\"Spatial\")\n",
      "arcpy.env.overwriteOutput = True\n",
      "\n",
      "# This is where the framework surfaces are stored\n",
      "arcpy.env.workspace = r'..\\gis\\fw\\surfaces.gdb'\n",
      "\n",
      "# This is the model grid to be used\n",
      "grid = r'..\\gis\\grids\\grid_5000ft_v3\\grid.shp'\n",
      "\n",
      "# Read metadata associated with the model grid\n",
      "ul_x, ul_y, delx, dely, nrow, ncol, rotation, proj4 = fasgas_utils.import_grid_metadata(grid)\n",
      "\n",
      "# Specify the output director\n",
      "outdir = r'dat\\fw'\n",
      "\n",
      "# Format of the output ascii grid values\n",
      "fmt = '%5.0f'"
     ],
     "language": "python",
     "metadata": {},
     "outputs": [
      {
       "output_type": "stream",
       "stream": "stdout",
       "text": [
        "Loaded D:\\Data\\Users\\jbellino\\Project\\faswam\\model\\python\\fasgas_figparams.py\n",
        "Loaded D:\\Data\\Users\\jbellino\\Project\\faswam\\model\\python\\fasgas_rcparams.py\n"
       ]
      }
     ],
     "prompt_number": 4
    },
    {
     "cell_type": "code",
     "collapsed": false,
     "input": [
      "# Top of land surface\n",
      "surface = 'geodas_fasft'\n",
      "lsd = fasgas_utils.import_surface(surface, grid, nrow, ncol, join_field='cell_id')\n",
      "np.savetxt(os.path.join(outdir,'LSD.dat'), lsd, fmt=fmt)"
     ],
     "language": "python",
     "metadata": {},
     "outputs": [],
     "prompt_number": 4
    },
    {
     "cell_type": "code",
     "collapsed": false,
     "input": [
      "# Top of the 10,000 TDS boundary\n",
      "surface = 'topotor_fig54'\n",
      "fig_54 = fasgas_utils.import_surface(surface, grid, nrow, ncol, join_field='cell_id') * -1\n",
      "np.savetxt(os.path.join(outdir,'TOP_10000_TDS.dat'), fig_54, fmt=fmt)"
     ],
     "language": "python",
     "metadata": {},
     "outputs": [],
     "prompt_number": 5
    },
    {
     "cell_type": "code",
     "collapsed": false,
     "input": [
      "# Thickness of SAS\n",
      "surface = 'topotor_fig20'\n",
      "fig_20 = fasgas_utils.import_surface(surface, grid, nrow, ncol, join_field='cell_id')\n",
      "np.savetxt(os.path.join(outdir,'FIG_20.dat'), fig_20, fmt=fmt)"
     ],
     "language": "python",
     "metadata": {},
     "outputs": [],
     "prompt_number": 6
    },
    {
     "cell_type": "code",
     "collapsed": false,
     "input": [
      "# Thickness of UCU\n",
      "surface = 'topotor_plt3'\n",
      "plt_3 = fasgas_utils.import_surface(surface, grid, nrow, ncol, join_field='cell_id')\n",
      "np.savetxt(os.path.join(outdir,'PLT_03.dat'), plt_3, fmt=fmt)"
     ],
     "language": "python",
     "metadata": {},
     "outputs": [],
     "prompt_number": 7
    },
    {
     "cell_type": "code",
     "collapsed": false,
     "input": [
      "# Top of FAS\n",
      "surface = 'topotor_plt4'\n",
      "plt_4 = fasgas_utils.import_surface(surface, grid, nrow, ncol, join_field='cell_id')\n",
      "np.savetxt(os.path.join(outdir,'PLT_04.dat'), plt_4, fmt=fmt)"
     ],
     "language": "python",
     "metadata": {},
     "outputs": [],
     "prompt_number": 8
    },
    {
     "cell_type": "code",
     "collapsed": false,
     "input": [
      "# Base of FAS\n",
      "surface = 'topotor_fig23'\n",
      "fig_23 = fasgas_utils.import_surface(surface, grid, nrow, ncol, join_field='cell_id')\n",
      "np.savetxt(os.path.join(outdir,'FIG_23.dat'), fig_23, fmt=fmt)"
     ],
     "language": "python",
     "metadata": {},
     "outputs": [],
     "prompt_number": 9
    },
    {
     "cell_type": "code",
     "collapsed": false,
     "input": [
      "# Low resistivity zone below OLDSPZ\n",
      "surface = 'topotor_fig24'\n",
      "fig_24 = fasgas_utils.import_surface(surface, grid, nrow, ncol, join_field='cell_id')\n",
      "np.savetxt(os.path.join(outdir,'FIG_24.dat'), fig_24, fmt=fmt)"
     ],
     "language": "python",
     "metadata": {},
     "outputs": [],
     "prompt_number": 10
    },
    {
     "cell_type": "code",
     "collapsed": false,
     "input": [
      "# Top of OCAPLPZ\n",
      "surface = 'topotor_fig28'\n",
      "fig_28 = fasgas_utils.import_surface(surface, grid, nrow, ncol, join_field='cell_id')\n",
      "np.savetxt(os.path.join(outdir,'FIG_28.dat'), fig_28, fmt=fmt)"
     ],
     "language": "python",
     "metadata": {},
     "outputs": [],
     "prompt_number": 11
    },
    {
     "cell_type": "code",
     "collapsed": false,
     "input": [
      "# Top of aggregated APPZ\n",
      "surface = 'topotor_fig30'\n",
      "fig_30 = fasgas_utils.import_surface(surface, grid, nrow, ncol, join_field='cell_id')\n",
      "np.savetxt(os.path.join(outdir,'FIG_30.dat'), fig_30, fmt=fmt)"
     ],
     "language": "python",
     "metadata": {},
     "outputs": [],
     "prompt_number": 12
    },
    {
     "cell_type": "code",
     "collapsed": false,
     "input": [
      "# Thickness of the UFA\n",
      "surface = 'topotor_fig32'\n",
      "fig_32 = fasgas_utils.import_surface(surface, grid, nrow, ncol, join_field='cell_id')\n",
      "np.savetxt(os.path.join(outdir,'FIG_32.dat'), fig_32, fmt=fmt)"
     ],
     "language": "python",
     "metadata": {},
     "outputs": [],
     "prompt_number": 13
    },
    {
     "cell_type": "code",
     "collapsed": false,
     "input": [
      "# Top of LFA\n",
      "surface = 'topotor_fig44'\n",
      "fig_44 = fasgas_utils.import_surface(surface, grid, nrow, ncol, join_field='cell_id')\n",
      "np.savetxt(os.path.join(outdir,'FIG_44.dat'), fig_44, fmt=fmt)"
     ],
     "language": "python",
     "metadata": {},
     "outputs": [],
     "prompt_number": 14
    },
    {
     "cell_type": "code",
     "collapsed": false,
     "input": [
      "# Top of the Glauconite Marker Unit\n",
      "surface = 'topotor_fig48'\n",
      "fig_48 = fasgas_utils.import_surface(surface, grid, nrow, ncol, join_field='cell_id')\n",
      "np.savetxt(os.path.join(outdir,'FIG_48.dat'), fig_48, fmt=fmt)"
     ],
     "language": "python",
     "metadata": {},
     "outputs": [],
     "prompt_number": 15
    },
    {
     "cell_type": "code",
     "collapsed": false,
     "input": [
      "# Top of the OLDSPZ\n",
      "surface = 'topotor_fig49'\n",
      "fig_49 = fasgas_utils.import_surface(surface, grid, nrow, ncol, join_field='cell_id')\n",
      "np.savetxt(os.path.join(outdir,'FIG_49.dat'), fig_49, fmt=fmt)"
     ],
     "language": "python",
     "metadata": {},
     "outputs": [],
     "prompt_number": 16
    },
    {
     "cell_type": "code",
     "collapsed": false,
     "input": [
      "# Top of the LISAPCU\n",
      "surface = 'topotor_fig33'\n",
      "fig_33 = fasgas_utils.import_surface(surface, grid, nrow, ncol, join_field='cell_id')\n",
      "np.savetxt(os.path.join(outdir,'FIG_33.dat'), fig_33, fmt=fmt)"
     ],
     "language": "python",
     "metadata": {},
     "outputs": [],
     "prompt_number": 7
    },
    {
     "cell_type": "code",
     "collapsed": false,
     "input": [
      "# Top of the BCCU\n",
      "surface = 'topotor_fig43'\n",
      "fig_43 = fasgas_utils.import_surface(surface, grid, nrow, ncol, join_field='cell_id')\n",
      "np.savetxt(os.path.join(outdir,'FIG_43t.dat'), fig_43, fmt=fmt)"
     ],
     "language": "python",
     "metadata": {},
     "outputs": [],
     "prompt_number": 8
    },
    {
     "cell_type": "code",
     "collapsed": false,
     "input": [
      "# Bottom of the BCCU\n",
      "surface = 'topo2r_fig43b'\n",
      "fig_43b = fasgas_utils.import_surface(surface, grid, nrow, ncol, join_field='cell_id')\n",
      "np.savetxt(os.path.join(outdir,'FIG_43b.dat'), fig_43b, fmt=fmt)"
     ],
     "language": "python",
     "metadata": {},
     "outputs": [],
     "prompt_number": 9
    },
    {
     "cell_type": "code",
     "collapsed": false,
     "input": [
      "# Top of the first permeable zone beneath the LISAPCU and BCCU\n",
      "surface = 'topotor_fig45'\n",
      "fig_45 = fasgas_utils.import_surface(surface, grid, nrow, ncol, join_field='cell_id')\n",
      "np.savetxt(os.path.join(outdir,'FIG_45.dat'), fig_45, fmt=fmt)"
     ],
     "language": "python",
     "metadata": {},
     "outputs": [],
     "prompt_number": 10
    },
    {
     "cell_type": "code",
     "collapsed": false,
     "input": [
      "# Top of the MAPCU\n",
      "surface = 'topotor_fig38'\n",
      "fig_38 = fasgas_utils.import_surface(surface, grid, nrow, ncol, join_field='cell_id')\n",
      "np.savetxt(os.path.join(outdir,'FIG_38.dat'), fig_38, fmt=fmt)"
     ],
     "language": "python",
     "metadata": {},
     "outputs": [],
     "prompt_number": 11
    },
    {
     "cell_type": "code",
     "collapsed": false,
     "input": [
      "# Top of the LAPPZ\n",
      "surface = 'topotor_fig46'\n",
      "fig_46 = fasgas_utils.import_surface(surface, grid, nrow, ncol, join_field='cell_id')\n",
      "np.savetxt(os.path.join(outdir,'FIG_46.dat'), fig_46, fmt=fmt)"
     ],
     "language": "python",
     "metadata": {},
     "outputs": [],
     "prompt_number": 12
    },
    {
     "cell_type": "code",
     "collapsed": false,
     "input": [],
     "language": "python",
     "metadata": {},
     "outputs": []
    }
   ],
   "metadata": {}
  }
 ]
}