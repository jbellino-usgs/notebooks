{
 "cells": [
  {
   "cell_type": "code",
   "execution_count": 105,
   "metadata": {
    "collapsed": true
   },
   "outputs": [],
   "source": [
    "import numpy as np\n",
    "import pandas as pd\n",
    "import matplotlib.pyplot as plt\n",
    "import matplotlib\n",
    "matplotlib.style.use('ggplot')\n",
    "\n",
    "%matplotlib inline"
   ]
  },
  {
   "cell_type": "markdown",
   "metadata": {},
   "source": [
    "##Read Data\n",
    "First read in the raw data from the first worksheet (sheet 0). We're only interested in a few columns so let's just pull them out (DATE, STATION_NAME, and TPCP). Next create a datetime index so we can access the data by date."
   ]
  },
  {
   "cell_type": "code",
   "execution_count": 106,
   "metadata": {
    "collapsed": false
   },
   "outputs": [
    {
     "data": {
      "text/html": [
       "<div>\n",
       "<table border=\"1\" class=\"dataframe\">\n",
       "  <thead>\n",
       "    <tr style=\"text-align: right;\">\n",
       "      <th></th>\n",
       "      <th>STATION_NAME</th>\n",
       "      <th>TPCP</th>\n",
       "    </tr>\n",
       "    <tr>\n",
       "      <th>DATE</th>\n",
       "      <th></th>\n",
       "      <th></th>\n",
       "    </tr>\n",
       "  </thead>\n",
       "  <tbody>\n",
       "    <tr>\n",
       "      <th>1900-02-01</th>\n",
       "      <td>INVERNESS 3 SE FL US</td>\n",
       "      <td>4.59</td>\n",
       "    </tr>\n",
       "    <tr>\n",
       "      <th>1900-03-01</th>\n",
       "      <td>INVERNESS 3 SE FL US</td>\n",
       "      <td>6.33</td>\n",
       "    </tr>\n",
       "    <tr>\n",
       "      <th>1900-04-01</th>\n",
       "      <td>INVERNESS 3 SE FL US</td>\n",
       "      <td>6.43</td>\n",
       "    </tr>\n",
       "    <tr>\n",
       "      <th>1900-05-01</th>\n",
       "      <td>INVERNESS 3 SE FL US</td>\n",
       "      <td>4.54</td>\n",
       "    </tr>\n",
       "    <tr>\n",
       "      <th>1900-06-01</th>\n",
       "      <td>INVERNESS 3 SE FL US</td>\n",
       "      <td>5.86</td>\n",
       "    </tr>\n",
       "  </tbody>\n",
       "</table>\n",
       "</div>"
      ],
      "text/plain": [
       "                    STATION_NAME  TPCP\n",
       "DATE                                  \n",
       "1900-02-01  INVERNESS 3 SE FL US  4.59\n",
       "1900-03-01  INVERNESS 3 SE FL US  6.33\n",
       "1900-04-01  INVERNESS 3 SE FL US  6.43\n",
       "1900-05-01  INVERNESS 3 SE FL US  4.54\n",
       "1900-06-01  INVERNESS 3 SE FL US  5.86"
      ]
     },
     "execution_count": 106,
     "metadata": {},
     "output_type": "execute_result"
    }
   ],
   "source": [
    "df = pd.read_excel('Rainfall_Bushnell_Inverness_Brooksville_1900-2014_042116.xlsx', sheetname=0)\n",
    "df = df[['DATE', 'STATION_NAME', 'TPCP']]\n",
    "df.loc[df[df['TPCP']<0].index, 'TPCP'] = np.nan\n",
    "df.DATE = pd.to_datetime(df.DATE, format='%Y%m%d')\n",
    "df = df.set_index(['DATE'])\n",
    "df.head()"
   ]
  },
  {
   "cell_type": "code",
   "execution_count": 107,
   "metadata": {
    "collapsed": false
   },
   "outputs": [
    {
     "data": {
      "text/plain": [
       "array([u'INVERNESS 3 SE FL US', u'BUSHNELL 1 E FL US',\n",
       "       u'BROOKSVILLE CHIN HIL FL US'], dtype=object)"
      ]
     },
     "execution_count": 107,
     "metadata": {},
     "output_type": "execute_result"
    }
   ],
   "source": [
    "stns = df.STATION_NAME.unique()\n",
    "stns"
   ]
  },
  {
   "cell_type": "markdown",
   "metadata": {},
   "source": [
    "##Compute Average Rainfall\n",
    "Pull out the data rows corresponding to each station and concatenate this side-by-side, then compute the average."
   ]
  },
  {
   "cell_type": "code",
   "execution_count": 119,
   "metadata": {
    "collapsed": false
   },
   "outputs": [
    {
     "data": {
      "text/html": [
       "<div>\n",
       "<table border=\"1\" class=\"dataframe\">\n",
       "  <thead>\n",
       "    <tr style=\"text-align: right;\">\n",
       "      <th></th>\n",
       "      <th>inverness</th>\n",
       "      <th>bushnell</th>\n",
       "      <th>brooksville</th>\n",
       "      <th>avg</th>\n",
       "    </tr>\n",
       "    <tr>\n",
       "      <th>DATE</th>\n",
       "      <th></th>\n",
       "      <th></th>\n",
       "      <th></th>\n",
       "      <th></th>\n",
       "    </tr>\n",
       "  </thead>\n",
       "  <tbody>\n",
       "    <tr>\n",
       "      <th>1900-01-01</th>\n",
       "      <td>NaN</td>\n",
       "      <td>NaN</td>\n",
       "      <td>3.01</td>\n",
       "      <td>3.010</td>\n",
       "    </tr>\n",
       "    <tr>\n",
       "      <th>1900-02-01</th>\n",
       "      <td>4.59</td>\n",
       "      <td>NaN</td>\n",
       "      <td>3.45</td>\n",
       "      <td>4.020</td>\n",
       "    </tr>\n",
       "    <tr>\n",
       "      <th>1900-03-01</th>\n",
       "      <td>6.33</td>\n",
       "      <td>NaN</td>\n",
       "      <td>6.85</td>\n",
       "      <td>6.590</td>\n",
       "    </tr>\n",
       "    <tr>\n",
       "      <th>1900-04-01</th>\n",
       "      <td>6.43</td>\n",
       "      <td>NaN</td>\n",
       "      <td>8.05</td>\n",
       "      <td>7.240</td>\n",
       "    </tr>\n",
       "    <tr>\n",
       "      <th>1900-05-01</th>\n",
       "      <td>4.54</td>\n",
       "      <td>NaN</td>\n",
       "      <td>4.77</td>\n",
       "      <td>4.655</td>\n",
       "    </tr>\n",
       "  </tbody>\n",
       "</table>\n",
       "</div>"
      ],
      "text/plain": [
       "            inverness  bushnell  brooksville    avg\n",
       "DATE                                               \n",
       "1900-01-01        NaN       NaN         3.01  3.010\n",
       "1900-02-01       4.59       NaN         3.45  4.020\n",
       "1900-03-01       6.33       NaN         6.85  6.590\n",
       "1900-04-01       6.43       NaN         8.05  7.240\n",
       "1900-05-01       4.54       NaN         4.77  4.655"
      ]
     },
     "execution_count": 119,
     "metadata": {},
     "output_type": "execute_result"
    }
   ],
   "source": [
    "inverness = df[df['STATION_NAME']==stns[0]]\n",
    "bushnell = df[df['STATION_NAME']==stns[1]]\n",
    "brooksville = df[df['STATION_NAME']==stns[2]]\n",
    "prcp = pd.concat([inverness.TPCP, bushnell.TPCP, brooksville.TPCP], axis=1)\n",
    "prcp.columns = ['inverness', 'bushnell', 'brooksville']\n",
    "prcp['avg'] = prcp.mean(axis=1)\n",
    "prcp.head()"
   ]
  },
  {
   "cell_type": "code",
   "execution_count": 109,
   "metadata": {
    "collapsed": false
   },
   "outputs": [
    {
     "data": {
      "text/html": [
       "<div>\n",
       "<table border=\"1\" class=\"dataframe\">\n",
       "  <thead>\n",
       "    <tr style=\"text-align: right;\">\n",
       "      <th></th>\n",
       "      <th>inverness</th>\n",
       "      <th>bushnell</th>\n",
       "      <th>brooksville</th>\n",
       "      <th>avg</th>\n",
       "    </tr>\n",
       "    <tr>\n",
       "      <th>DATE</th>\n",
       "      <th></th>\n",
       "      <th></th>\n",
       "      <th></th>\n",
       "      <th></th>\n",
       "    </tr>\n",
       "  </thead>\n",
       "  <tbody>\n",
       "    <tr>\n",
       "      <th>2005-01-01</th>\n",
       "      <td>0.10</td>\n",
       "      <td>1.38</td>\n",
       "      <td>1.62</td>\n",
       "      <td>1.033333</td>\n",
       "    </tr>\n",
       "    <tr>\n",
       "      <th>2005-02-01</th>\n",
       "      <td>0.99</td>\n",
       "      <td>1.36</td>\n",
       "      <td>1.76</td>\n",
       "      <td>1.370000</td>\n",
       "    </tr>\n",
       "    <tr>\n",
       "      <th>2005-03-01</th>\n",
       "      <td>3.12</td>\n",
       "      <td>3.70</td>\n",
       "      <td>3.32</td>\n",
       "      <td>3.380000</td>\n",
       "    </tr>\n",
       "    <tr>\n",
       "      <th>2005-04-01</th>\n",
       "      <td>2.90</td>\n",
       "      <td>2.96</td>\n",
       "      <td>3.08</td>\n",
       "      <td>2.980000</td>\n",
       "    </tr>\n",
       "    <tr>\n",
       "      <th>2005-05-01</th>\n",
       "      <td>5.38</td>\n",
       "      <td>4.12</td>\n",
       "      <td>4.72</td>\n",
       "      <td>4.740000</td>\n",
       "    </tr>\n",
       "    <tr>\n",
       "      <th>2005-06-01</th>\n",
       "      <td>8.93</td>\n",
       "      <td>3.52</td>\n",
       "      <td>6.14</td>\n",
       "      <td>6.196667</td>\n",
       "    </tr>\n",
       "    <tr>\n",
       "      <th>2005-07-01</th>\n",
       "      <td>6.91</td>\n",
       "      <td>10.25</td>\n",
       "      <td>11.09</td>\n",
       "      <td>9.416667</td>\n",
       "    </tr>\n",
       "    <tr>\n",
       "      <th>2005-08-01</th>\n",
       "      <td>9.93</td>\n",
       "      <td>NaN</td>\n",
       "      <td>8.62</td>\n",
       "      <td>9.275000</td>\n",
       "    </tr>\n",
       "    <tr>\n",
       "      <th>2005-09-01</th>\n",
       "      <td>2.04</td>\n",
       "      <td>0.88</td>\n",
       "      <td>1.26</td>\n",
       "      <td>1.393333</td>\n",
       "    </tr>\n",
       "    <tr>\n",
       "      <th>2005-10-01</th>\n",
       "      <td>4.23</td>\n",
       "      <td>3.37</td>\n",
       "      <td>5.24</td>\n",
       "      <td>4.280000</td>\n",
       "    </tr>\n",
       "    <tr>\n",
       "      <th>2005-11-01</th>\n",
       "      <td>3.78</td>\n",
       "      <td>2.00</td>\n",
       "      <td>2.14</td>\n",
       "      <td>2.640000</td>\n",
       "    </tr>\n",
       "    <tr>\n",
       "      <th>2005-12-01</th>\n",
       "      <td>3.60</td>\n",
       "      <td>NaN</td>\n",
       "      <td>3.27</td>\n",
       "      <td>3.435000</td>\n",
       "    </tr>\n",
       "  </tbody>\n",
       "</table>\n",
       "</div>"
      ],
      "text/plain": [
       "            inverness  bushnell  brooksville       avg\n",
       "DATE                                                  \n",
       "2005-01-01       0.10      1.38         1.62  1.033333\n",
       "2005-02-01       0.99      1.36         1.76  1.370000\n",
       "2005-03-01       3.12      3.70         3.32  3.380000\n",
       "2005-04-01       2.90      2.96         3.08  2.980000\n",
       "2005-05-01       5.38      4.12         4.72  4.740000\n",
       "2005-06-01       8.93      3.52         6.14  6.196667\n",
       "2005-07-01       6.91     10.25        11.09  9.416667\n",
       "2005-08-01       9.93       NaN         8.62  9.275000\n",
       "2005-09-01       2.04      0.88         1.26  1.393333\n",
       "2005-10-01       4.23      3.37         5.24  4.280000\n",
       "2005-11-01       3.78      2.00         2.14  2.640000\n",
       "2005-12-01       3.60       NaN         3.27  3.435000"
      ]
     },
     "execution_count": 109,
     "metadata": {},
     "output_type": "execute_result"
    }
   ],
   "source": [
    "# Look at just the 2005 data\n",
    "prcp['2005']"
   ]
  },
  {
   "cell_type": "code",
   "execution_count": 110,
   "metadata": {
    "collapsed": false
   },
   "outputs": [
    {
     "data": {
      "text/plain": [
       "DATE\n",
       "1900-12-31    56.715\n",
       "1901-12-31    60.980\n",
       "1902-12-31    47.170\n",
       "1903-12-31    53.545\n",
       "1904-12-31    46.155\n",
       "Freq: A-DEC, Name: avg, dtype: float64"
      ]
     },
     "execution_count": 110,
     "metadata": {},
     "output_type": "execute_result"
    }
   ],
   "source": [
    "# Compute annual totals from the monthly averages for 1900 through 2014\n",
    "prcpA = prcp['1900':'2014'].avg.resample('A', how='sum')\n",
    "prcpA.head()"
   ]
  },
  {
   "cell_type": "code",
   "execution_count": 111,
   "metadata": {
    "collapsed": false
   },
   "outputs": [
    {
     "data": {
      "text/plain": [
       "52.587130434782615"
      ]
     },
     "execution_count": 111,
     "metadata": {},
     "output_type": "execute_result"
    }
   ],
   "source": [
    "# Find the mean of the annual totals\n",
    "prcpA.mean()"
   ]
  },
  {
   "cell_type": "code",
   "execution_count": 112,
   "metadata": {
    "collapsed": false
   },
   "outputs": [
    {
     "data": {
      "text/plain": [
       "DATE\n",
       "2000-12-31    36.926667\n",
       "2001-12-31    52.793333\n",
       "2002-12-31    62.953333\n",
       "2003-12-31    60.866667\n",
       "2004-12-31    53.380000\n",
       "2005-12-31    50.140000\n",
       "2006-12-31    38.215000\n",
       "2007-12-31    47.425000\n",
       "2008-12-31    41.128333\n",
       "2009-12-31    45.031667\n",
       "2010-12-31    42.810000\n",
       "2011-12-31    45.093333\n",
       "2012-12-31    50.020000\n",
       "2013-12-31    43.760000\n",
       "2014-12-31    56.355000\n",
       "Freq: A-DEC, Name: avg, dtype: float64"
      ]
     },
     "execution_count": 112,
     "metadata": {},
     "output_type": "execute_result"
    }
   ],
   "source": [
    "# Look at the annual totals for 2000 through the end of the dataset (2014)\n",
    "prcpA['2000':]"
   ]
  },
  {
   "cell_type": "code",
   "execution_count": 113,
   "metadata": {
    "collapsed": false
   },
   "outputs": [
    {
     "data": {
      "text/plain": [
       "DATE\n",
       "1900-12-31    4.12787\n",
       "1901-12-31    8.39287\n",
       "1902-12-31   -5.41713\n",
       "1903-12-31    0.95787\n",
       "1904-12-31   -6.43213\n",
       "Freq: A-DEC, Name: avg, dtype: float64"
      ]
     },
     "execution_count": 113,
     "metadata": {},
     "output_type": "execute_result"
    }
   ],
   "source": [
    "# Compute departures from the longterm (1900-2014) mean\n",
    "departure = prcpA - prcpA.mean()\n",
    "departure.head()"
   ]
  },
  {
   "cell_type": "code",
   "execution_count": 118,
   "metadata": {
    "collapsed": false
   },
   "outputs": [
    {
     "data": {
      "text/plain": [
       "<matplotlib.axes._subplots.AxesSubplot at 0x1a410860>"
      ]
     },
     "execution_count": 118,
     "metadata": {},
     "output_type": "execute_result"
    },
    {
     "data": {
      "image/png": "[encoded data removed]",
      "text/plain": [
       "<matplotlib.figure.Figure at 0x204059b0>"
      ]
     },
     "metadata": {},
     "output_type": "display_data"
    }
   ],
   "source": [
    "departure.plot(kind='bar', figsize=(16, 4))"
   ]
  },
  {
   "cell_type": "code",
   "execution_count": 115,
   "metadata": {
    "collapsed": false
   },
   "outputs": [
    {
     "data": {
      "text/plain": [
       "43.235710144927339"
      ]
     },
     "execution_count": 115,
     "metadata": {},
     "output_type": "execute_result"
    }
   ],
   "source": [
    "# Compute surplus or deficit for 1900-1937\n",
    "departure['1900':'1937'].sum()"
   ]
  },
  {
   "cell_type": "code",
   "execution_count": 116,
   "metadata": {
    "collapsed": false
   },
   "outputs": [
    {
     "data": {
      "text/plain": [
       "89.447376811593955"
      ]
     },
     "execution_count": 116,
     "metadata": {},
     "output_type": "execute_result"
    }
   ],
   "source": [
    "# Compute surplus or deficit for 1938-1975\n",
    "departure['1938':'1975'].sum()"
   ]
  },
  {
   "cell_type": "code",
   "execution_count": 117,
   "metadata": {
    "collapsed": false
   },
   "outputs": [
    {
     "data": {
      "text/plain": [
       "-132.683086956522"
      ]
     },
     "execution_count": 117,
     "metadata": {},
     "output_type": "execute_result"
    }
   ],
   "source": [
    "# Compute surplus or deficit for 1976-2014\n",
    "departure['1976':'2014'].sum()"
   ]
  }
 ],
 "metadata": {
  "kernelspec": {
   "display_name": "Python 2",
   "language": "python",
   "name": "python2"
  },
  "language_info": {
   "codemirror_mode": {
    "name": "ipython",
    "version": 2
   },
   "file_extension": ".py",
   "mimetype": "text/x-python",
   "name": "python",
   "nbconvert_exporter": "python",
   "pygments_lexer": "ipython2",
   "version": "2.7.11"
  }
 },
 "nbformat": 4,
 "nbformat_minor": 0
}
